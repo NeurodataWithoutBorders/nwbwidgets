{
 "cells": [
  {
   "cell_type": "code",
   "execution_count": 2,
   "metadata": {},
   "outputs": [
    {
     "data": {
      "application/vnd.jupyter.widget-view+json": {
       "model_id": "50434eade3a54963be0def74f84f30b3",
       "version_major": 2,
       "version_minor": 0
      },
      "text/plain": [
       "VBox(children=(HBox(children=(Label(value='session_description:', layout=Layout(max_height='40px', max_width='…"
      ]
     },
     "metadata": {},
     "output_type": "display_data"
    }
   ],
   "source": [
    "from nwbwidgets import nwb2widget\n",
    "from pynwb import NWBHDF5IO\n",
    "import allensdk.brain_observatory.ecephys.nwb\n",
    "from nwbwidgets.allen import load_allen_widgets\n",
    "\n",
    "load_allen_widgets()\n",
    "\n",
    "fpath = '/Volumes/easystore5T/data/Allen/neuropixel/fixed/ecephys_session_715093703.nwb'\n",
    "\n",
    "file = NWBHDF5IO(fpath, 'r')\n",
    "nwb = file.read()\n",
    "\n",
    "nwb2widget(nwb)"
   ]
  },
  {
   "cell_type": "code",
   "execution_count": null,
   "metadata": {},
   "outputs": [],
   "source": []
  }
 ],
 "metadata": {
  "kernelspec": {
   "display_name": "Python 3",
   "language": "python",
   "name": "python3"
  },
  "language_info": {
   "codemirror_mode": {
    "name": "ipython",
    "version": 3
   },
   "file_extension": ".py",
   "mimetype": "text/x-python",
   "name": "python",
   "nbconvert_exporter": "python",
   "pygments_lexer": "ipython3",
   "version": "3.7.4"
  }
 },
 "nbformat": 4,
 "nbformat_minor": 2
}
