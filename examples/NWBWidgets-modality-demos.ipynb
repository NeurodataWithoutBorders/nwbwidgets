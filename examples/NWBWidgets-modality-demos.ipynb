{
 "cells": [
  {
   "cell_type": "markdown",
   "metadata": {},
   "source": [
    "# NWBWidgets Demos\n",
    "\n",
    "This notebook demonstrates now to run NWBWidgets on an NWB file. It is the same pattern for any NWB file. To run, download an example session from any of these datasets and adjust the paths to the local path on your computer."
   ]
  },
  {
   "cell_type": "code",
   "execution_count": null,
   "metadata": {},
   "outputs": [],
   "source": [
    "from pynwb import NWBHDF5IO\n",
    "from nwbwidgets import nwb2widget"
   ]
  },
  {
   "cell_type": "markdown",
   "metadata": {},
   "source": [
    "### Calium imaging\n",
    "#### A Map of Anticipatory Activity in Mouse Motor Cortex, Chen, Svoboda Available on DANDI at [https://dandiarchive.org/dandiset/000015/draft](https://dandiarchive.org/dandiset/000015/draft)."
   ]
  },
  {
   "cell_type": "code",
   "execution_count": null,
   "metadata": {},
   "outputs": [],
   "source": [
    "fpath = '../ophys_example.nwb'\n",
    "nwb = NWBHDF5IO(fpath, 'r').read()\n",
    "nwb2widget(nwb)"
   ]
  },
  {
   "cell_type": "markdown",
   "metadata": {},
   "source": [
    "### Intracellular electrophysiology\n",
    "#### Demonstrated using data from the Blue Brain Project, BBP & LNMC, EPFL. Dataset available on DANDI at [https://dandiarchive.org/dandiset/000025/draft](https://dandiarchive.org/dandiset/000025/draft)."
   ]
  },
  {
   "cell_type": "code",
   "execution_count": null,
   "metadata": {},
   "outputs": [],
   "source": [
    "import ndx_icephys_meta\n",
    "fpath = '../icephys_example.nwb'\n",
    "nwb = NWBHDF5IO(fpath, 'r').read()\n",
    "nwb2widget(nwb)"
   ]
  },
  {
   "cell_type": "markdown",
   "metadata": {},
   "source": [
    "### Extracellular electrophysiology\n",
    "#### Allen Institute Neuropixel data releasea, available on DANDI at [https://dandiarchive.org/dandiset/000021/draft](https://dandiarchive.org/dandiset/000021/draft)."
   ]
  },
  {
   "cell_type": "code",
   "execution_count": null,
   "metadata": {},
   "outputs": [],
   "source": [
    "fpath = '../ecephys_example.nwb'\n",
    "from nwbwidgets.allen import load_allen_widgets\n",
    "load_allen_widgets()\n",
    "nwb = NWBHDF5IO(fpath, 'r', load_namespaces=True).read()\n",
    "nwb2widget(nwb)"
   ]
  }
 ],
 "metadata": {
  "kernelspec": {
   "display_name": "Python 3",
   "language": "python",
   "name": "python3"
  },
  "language_info": {
   "codemirror_mode": {
    "name": "ipython",
    "version": 3
   },
   "file_extension": ".py",
   "mimetype": "text/x-python",
   "name": "python",
   "nbconvert_exporter": "python",
   "pygments_lexer": "ipython3",
   "version": "3.7.4"
  }
 },
 "nbformat": 4,
 "nbformat_minor": 2
}
