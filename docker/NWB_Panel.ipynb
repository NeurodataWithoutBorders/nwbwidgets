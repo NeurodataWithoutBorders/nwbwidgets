{
 "cells": [
  {
   "cell_type": "code",
   "execution_count": null,
   "metadata": {},
   "outputs": [],
   "source": [
    "import os\n",
    "\n",
    "\n",
    "s3_url = os.getenv(\"S3_URL_NWBFILE\", None)\n",
    "enable_local_source  = bool(os.getenv(\"ENABLE_LOCAL_SOURCE\", False))\n",
    "\n",
    "if s3_url:\n",
    "    from pynwb import NWBHDF5IO\n",
    "    from nwbwidgets import nwb2widget\n",
    "    from dandi.dandiapi import DandiAPIClient\n",
    "    import h5py\n",
    "    import fsspec\n",
    "    from fsspec.implementations.cached import CachingFileSystem\n",
    "    \n",
    "    # Create a virtual filesystem based on the http protocol and use caching to save accessed data to RAM.\n",
    "    fs = CachingFileSystem(\n",
    "        fs=fsspec.filesystem(\"http\"),\n",
    "        cache_storage=\"nwb-cache\",  # Local folder for the cache\n",
    "    )\n",
    "    f = fs.open(s3_url, \"rb\")\n",
    "    file = h5py.File(f)\n",
    "    io = NWBHDF5IO(file=file, load_namespaces=True)\n",
    "    nwbfile = io.read()\n",
    "    w = nwb2widget(nwbfile)\n",
    "else:\n",
    "    from nwbwidgets import Panel\n",
    "    w = Panel(enable_local_source=enable_local_source)"
   ]
  },
  {
   "cell_type": "code",
   "execution_count": null,
   "metadata": {},
   "outputs": [],
   "source": [
    "w"
   ]
  }
 ],
 "metadata": {
  "kernelspec": {
   "display_name": "Python 3.8.5 ('base')",
   "language": "python",
   "name": "python3"
  },
  "language_info": {
   "codemirror_mode": {
    "name": "ipython",
    "version": 3
   },
   "file_extension": ".py",
   "mimetype": "text/x-python",
   "name": "python",
   "nbconvert_exporter": "python",
   "pygments_lexer": "ipython3",
   "version": "3.8.5"
  },
  "vscode": {
   "interpreter": {
    "hash": "698d109e506a444d1bfd677c8f66adf4920b11c19b28ee52fae9b02c95d46a98"
   }
  }
 },
 "nbformat": 4,
 "nbformat_minor": 4
}
