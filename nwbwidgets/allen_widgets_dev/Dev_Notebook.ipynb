{
 "cells": [
  {
   "cell_type": "code",
   "execution_count": 1,
   "metadata": {},
   "outputs": [],
   "source": [
    "import pynwb\n",
    "%matplotlib widget\n",
    "path = '/home/vinicius/Área de Trabalho/Trabalhos/neuro/data/102086.nwb'\n",
    "io = pynwb.NWBHDF5IO(path, mode='r')\n",
    "nwb = io.read()"
   ]
  },
  {
   "cell_type": "code",
   "execution_count": 2,
   "metadata": {},
   "outputs": [],
   "source": [
    "ts1 = nwb.processing['ecephys']['filtered_membrane_voltage']\n",
    "ts2 = nwb.processing['ophys'].data_interfaces['fluorescence'].roi_response_series['roi_response_series']"
   ]
  },
  {
   "cell_type": "code",
   "execution_count": 3,
   "metadata": {},
   "outputs": [
    {
     "data": {
      "application/vnd.jupyter.widget-view+json": {
       "model_id": "a9372c85ce804681915f7fe5b830a42f",
       "version_major": 2,
       "version_minor": 0
      },
      "text/plain": [
       "Allen(children=(VBox(children=(AllenElectrical(children=(VBox(children=(StartAndDurationController(value=(0.0,…"
      ]
     },
     "metadata": {},
     "output_type": "display_data"
    }
   ],
   "source": [
    "from nwbwidgets.allen_widget import Allen\n",
    "widget = Allen(ts1, ts2)\n",
    "widget\n"
   ]
  },
  {
   "cell_type": "code",
   "execution_count": null,
   "metadata": {},
   "outputs": [],
   "source": []
  }
 ],
 "metadata": {
  "kernelspec": {
   "display_name": "Python 3",
   "language": "python",
   "name": "python3"
  },
  "language_info": {
   "codemirror_mode": {
    "name": "ipython",
    "version": 3
   },
   "file_extension": ".py",
   "mimetype": "text/x-python",
   "name": "python",
   "nbconvert_exporter": "python",
   "pygments_lexer": "ipython3",
   "version": "3.6.9"
  }
 },
 "nbformat": 4,
 "nbformat_minor": 4
}
